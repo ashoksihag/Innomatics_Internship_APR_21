{
 "cells": [
  {
   "cell_type": "code",
   "execution_count": null,
   "metadata": {},
   "outputs": [],
   "source": [
    "#question:1 Polar Coordinates\n",
    "\n",
    "import cmath\n",
    "z = complex(input())\n",
    "r=abs(z)\n",
    "print(r)\n",
    "shi=cmath.phase(z)\n",
    "print(shi)"
   ]
  },
  {
   "cell_type": "code",
   "execution_count": null,
   "metadata": {},
   "outputs": [],
   "source": [
    "#question:2 Find Angle MBC\n",
    "\n",
    "import math\n",
    "AB=int(input())\n",
    "BC=int(input())\n",
    "#AC=math.sqrt(AB**2 + BC**2)\n",
    "#MC=AC/2\n",
    "#BM=AC/2\n",
    "#isosceles triangle  angleACB=angleMBC\n",
    "angleACB = (math.atan(AB/BC))\n",
    "angleMBC= round(math.degrees(angleACB))\n",
    "print(angleMBC, chr(176),sep='')"
   ]
  },
  {
   "cell_type": "code",
   "execution_count": null,
   "metadata": {},
   "outputs": [],
   "source": [
    "#question:3 Triangle Quest 2\n",
    "\n",
    "for i in range(1,int(input())+1):\n",
    "    print((((10**i-1)//9)**2))"
   ]
  },
  {
   "cell_type": "code",
   "execution_count": null,
   "metadata": {},
   "outputs": [],
   "source": [
    "#question:4 Mod Divmod\n",
    "\n",
    "a=int(input())\n",
    "b=int(input())\n",
    "print(a//b)\n",
    "print(a%b)\n",
    "print(divmod(a,b))"
   ]
  },
  {
   "cell_type": "code",
   "execution_count": null,
   "metadata": {},
   "outputs": [],
   "source": [
    "#question:5 Power - Mod Power\n",
    "\n",
    "a = int(input())\n",
    "b = int(input())\n",
    "m = int(input())\n",
    "print(pow(a,b))\n",
    "print(pow(a,b,m))"
   ]
  },
  {
   "cell_type": "code",
   "execution_count": null,
   "metadata": {},
   "outputs": [],
   "source": [
    "#question:6 Integers Come In All Sizes\n",
    "\n",
    "a = int(input())\n",
    "b = int(input())\n",
    "c = int(input())\n",
    "d = int(input())\n",
    "print(pow(a,b)+pow(c,d))"
   ]
  },
  {
   "cell_type": "code",
   "execution_count": null,
   "metadata": {},
   "outputs": [],
   "source": [
    "#question:7 Triangle Quest\n",
    "\n",
    "for i in range(1,int(input())): \n",
    "    print((pow(10,i)//9)*i)"
   ]
  },
  {
   "cell_type": "code",
   "execution_count": null,
   "metadata": {},
   "outputs": [],
   "source": []
  }
 ],
 "metadata": {
  "kernelspec": {
   "display_name": "Python 3",
   "language": "python",
   "name": "python3"
  },
  "language_info": {
   "codemirror_mode": {
    "name": "ipython",
    "version": 3
   },
   "file_extension": ".py",
   "mimetype": "text/x-python",
   "name": "python",
   "nbconvert_exporter": "python",
   "pygments_lexer": "ipython3",
   "version": "3.8.3"
  }
 },
 "nbformat": 4,
 "nbformat_minor": 4
}

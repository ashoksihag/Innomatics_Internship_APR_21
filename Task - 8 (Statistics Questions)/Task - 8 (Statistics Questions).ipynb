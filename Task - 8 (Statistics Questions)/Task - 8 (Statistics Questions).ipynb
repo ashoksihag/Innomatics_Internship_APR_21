{
 "cells": [
  {
   "cell_type": "code",
   "execution_count": 6,
   "metadata": {},
   "outputs": [
    {
     "name": "stdout",
     "output_type": "stream",
     "text": [
      "1.09 1\n",
      "0.696\n"
     ]
    }
   ],
   "source": [
    "#question1: Day 4: Binomial Distribution I\n",
    "\n",
    "def factorial(i):\n",
    "    if i==0:\n",
    "        return 1\n",
    "    else:\n",
    "        return i*factorial(i-1)\n",
    "        \n",
    "def binomial(x,n,p):\n",
    "    b = (factorial(n)/(factorial(x)*factorial(n-x))) * (p**x)*((1-p)**(n-x))\n",
    "    return b\n",
    "boys, girls = map(float, input().split())\n",
    "n=6\n",
    "x=3\n",
    "p=boys/(boys+girls)\n",
    "\n",
    "prob = binomial(3,6,p)+binomial(4,6,p)+binomial(5,6,p)+binomial(6,6,p)\n",
    "\n",
    "print('%.3f' %prob)"
   ]
  },
  {
   "cell_type": "code",
   "execution_count": 8,
   "metadata": {},
   "outputs": [
    {
     "name": "stdout",
     "output_type": "stream",
     "text": [
      "12 10\n",
      "0.891\n",
      "0.342\n"
     ]
    }
   ],
   "source": [
    "#question2: Day 4: Day 4: Binomial Distribution II\n",
    "\n",
    "def factorial(i):\n",
    "    if i==0:\n",
    "        return 1\n",
    "    else:\n",
    "        return i*factorial(i-1)\n",
    "        \n",
    "def binomial(x,n,p):\n",
    "    b = (factorial(n)/(factorial(x)*factorial(n-x))) * (p**x)*((1-p)**(n-x))\n",
    "    return b\n",
    "r, n = map(float, input().split())\n",
    "\n",
    "p=r/100\n",
    "\n",
    "prob_NomoreThanTwo = binomial(0,n,p)+binomial(1,n,p)+binomial(2,n,p)\n",
    "\n",
    "prob_atleatTwo = 1 - (binomial(0,n,p)+binomial(1,n,p))\n",
    "\n",
    "print('%.3f' %prob_NomoreThanTwo)\n",
    "print('%.3f' %prob_atleatTwo)"
   ]
  },
  {
   "cell_type": "code",
   "execution_count": 20,
   "metadata": {},
   "outputs": [
    {
     "name": "stdout",
     "output_type": "stream",
     "text": [
      "0.401\n",
      "0.341\n"
     ]
    }
   ],
   "source": [
    "#question3: Day 5: Normal Distribution I\n",
    "\n",
    "import math\n",
    "\n",
    "𝜋 = math.pi\n",
    "\n",
    "def CMP(x,𝜇,𝜎):\n",
    "    return 1/2*(1 + math.erf((x-𝜇)/ 𝜎 / math.sqrt(2)))\n",
    "\n",
    "𝜇 = 20\n",
    "𝜎 = 2\n",
    "\n",
    "print('{:.3f}'.format(CMP(19.5, 𝜇 , 𝜎)))\n",
    "\n",
    "print('{:.3f}'.format(CMP(22, 𝜇 , 𝜎) - CMP(20, 𝜇 , 𝜎)))"
   ]
  },
  {
   "cell_type": "code",
   "execution_count": 30,
   "metadata": {},
   "outputs": [
    {
     "name": "stdout",
     "output_type": "stream",
     "text": [
      "15.87\n",
      "84.134475\n",
      "15.87\n"
     ]
    }
   ],
   "source": [
    "#question4: Day 5: Normal Distribution II\n",
    "\n",
    "import math\n",
    "\n",
    "𝜋 = math.pi\n",
    "\n",
    "def CMP(x,𝜇,𝜎):\n",
    "    return 1/2*(1 + math.erf((x-𝜇)/ 𝜎 / math.sqrt(2)))\n",
    "\n",
    "𝜇 = 70\n",
    "𝜎 = 10\n",
    "\n",
    "print('{:.2f}'.format((1-CMP(80, 𝜇 , 𝜎))*100))\n",
    "\n",
    "print('{:.2f}'.format((1-CMP(60, 𝜇 , 𝜎))*100))\n",
    "\n",
    "print('{:.2f}'.format(CMP(60, 𝜇 , 𝜎)*100))"
   ]
  },
  {
   "cell_type": "code",
   "execution_count": 31,
   "metadata": {},
   "outputs": [
    {
     "name": "stdout",
     "output_type": "stream",
     "text": [
      "9800\n",
      "49\n",
      "205\n",
      "15\n",
      "0.0098\n"
     ]
    }
   ],
   "source": [
    "#question5: Day 6: The Central Limit Theorem I\n",
    "\n",
    "def CMP(x,𝜇,𝜎):\n",
    "    return 1/2*(1 + math.erf((x-𝜇)/ 𝜎 / math.sqrt(2)))\n",
    "\n",
    "capacity = float(input())\n",
    "n= int(input())\n",
    "𝜇 = float(input())\n",
    "𝜎 = float(input())\n",
    "\n",
    "prob = CMP(capacity,n*µ,math.sqrt(n)*σ)\n",
    "\n",
    "print('{:.4f}'.format(prob))"
   ]
  },
  {
   "cell_type": "code",
   "execution_count": 32,
   "metadata": {},
   "outputs": [
    {
     "name": "stdout",
     "output_type": "stream",
     "text": [
      "250\n",
      "100\n",
      "2.4\n",
      "2\n",
      "0.6915\n"
     ]
    }
   ],
   "source": [
    "#question6: Day 6: The Central Limit Theorem II\n",
    "\n",
    "def CMP(x,𝜇,𝜎):\n",
    "    return 1/2*(1 + math.erf((x-𝜇)/ 𝜎 / math.sqrt(2)))\n",
    "\n",
    "tickets = float(input())\n",
    "n= int(input())\n",
    "𝜇 = float(input())\n",
    "𝜎 = float(input())\n",
    "\n",
    "prob = CMP(tickets,n*µ,math.sqrt(n)*σ)\n",
    "\n",
    "print('{:.4f}'.format(prob))"
   ]
  },
  {
   "cell_type": "code",
   "execution_count": 35,
   "metadata": {},
   "outputs": [
    {
     "name": "stdout",
     "output_type": "stream",
     "text": [
      "100\n",
      "500\n",
      "80\n",
      ".95\n",
      "1.96\n",
      "484.32\n",
      "515.68\n"
     ]
    }
   ],
   "source": [
    "#question7: Day 6: The Central Limit Theorem III\n",
    "\n",
    "\n",
    "\n",
    "\n",
    "n= int(input())\n",
    "𝜇 = float(input())\n",
    "𝜎 = float(input())\n",
    "x = float(input())\n",
    "z = float(input())\n",
    "\n",
    "A = round(µ-(z*(σ/math.sqrt(n))),2)\n",
    "B = round(µ+(z*(σ/math.sqrt(n))),2)\n",
    "\n",
    "print(A)\n",
    "print(B)\n",
    "# print('{:.2f}'.format(A))\n",
    "# print('{:.2f}'.format(B))"
   ]
  },
  {
   "cell_type": "code",
   "execution_count": null,
   "metadata": {},
   "outputs": [],
   "source": [
    "#question8: Day 7: Pearson Correlation Coefficient I\n",
    "\n",
    "X = list(map(float, input().split()))\n",
    "Y = list(map(float, input().split()))\n",
    "\n",
    "muX = sum(X)/len(X)\n",
    "muY = sum(Y)/len(Y)\n",
    "\n",
    "def pearson(n,X,Y):\n",
    "    p=0\n",
    "    sigmax=0\n",
    "    sigmay=0\n",
    "    for x,y in zip(X,Y):\n",
    "        sigmax+=(x-muX)**2\n",
    "        sigmay+=(y-muY)**2\n",
    "        p+=(x-muX)*(y-muY)\n",
    "    sigmax=(sigmax/n)**.5\n",
    "    sigmay=(sigmay/n)**.5\n",
    "    p=p/(n*sigmax*sigmay)\n",
    "    return p\n",
    "\n",
    "print('{:.3f}'.format(pearson(n,X,Y)))\n"
   ]
  },
  {
   "cell_type": "code",
   "execution_count": null,
   "metadata": {},
   "outputs": [],
   "source": [
    "#question9: Day 8: Least Square Regression Line\n",
    "\n",
    "def pearson(n,X,Y):\n",
    "    muX = sum(X)/n\n",
    "    muY = sum(Y)/n\n",
    "    p=0\n",
    "    sigmax=0\n",
    "    sigmay=0\n",
    "    for x,y in zip(X,Y):\n",
    "        sigmax+=(x-muX)**2\n",
    "        sigmay+=(y-muY)**2\n",
    "        p+=(x-muX)*(y-muY)\n",
    "    sigmax=(sigmax/n)**.5\n",
    "    sigmay=(sigmay/n)**.5\n",
    "    p=p/(n*sigmax*sigmay)\n",
    "    b = p*sigmay/sigmax\n",
    "    a = muY - b*muX\n",
    "    return p,a,b\n",
    "n=5\n",
    "X,Y=[0]*n,[0]*n\n",
    "for i in range(n):\n",
    "    X[i],Y[i]=map(int,input().split())\n",
    "    \n",
    "p,a,b = pearson(n,X,Y)\n",
    "\n",
    "print('{:.3f}'.format(a+b*80))"
   ]
  },
  {
   "cell_type": "code",
   "execution_count": null,
   "metadata": {},
   "outputs": [],
   "source": [
    "#question10: Day 9: Multiple Linear Regression\n",
    "\n",
    "from sklearn import linear_model\n",
    "\n",
    "def solve(y, x, x_pred):\n",
    "  lm = linear_model.LinearRegression()\n",
    "  lm.fit(x, y)\n",
    "  y_pred = lm.predict(x_pred)\n",
    "  return y_pred\n",
    "\n",
    "def main():\n",
    "  m, n = map(int, input().strip().split())\n",
    "  y = []; x = []; x_pred = []\n",
    "  for _ in range(n):\n",
    "    *features, y_val = map(float, input().strip().split())\n",
    "    x.append(features)\n",
    "    y.append(y_val)\n",
    "\n",
    "  for _ in range(int(input())):\n",
    "    features = list(map(float, input().strip().split()))\n",
    "    x_pred.append(features)\n",
    "  \n",
    "  answer = solve(y, x, x_pred)\n",
    "  for num in answer:\n",
    "    print(round(num, 2))\n",
    "\n",
    "if __name__ == \"__main__\":\n",
    "  main()\n"
   ]
  },
  {
   "cell_type": "code",
   "execution_count": null,
   "metadata": {},
   "outputs": [],
   "source": []
  }
 ],
 "metadata": {
  "kernelspec": {
   "display_name": "Python 3",
   "language": "python",
   "name": "python3"
  },
  "language_info": {
   "codemirror_mode": {
    "name": "ipython",
    "version": 3
   },
   "file_extension": ".py",
   "mimetype": "text/x-python",
   "name": "python",
   "nbconvert_exporter": "python",
   "pygments_lexer": "ipython3",
   "version": "3.8.3"
  }
 },
 "nbformat": 4,
 "nbformat_minor": 4
}

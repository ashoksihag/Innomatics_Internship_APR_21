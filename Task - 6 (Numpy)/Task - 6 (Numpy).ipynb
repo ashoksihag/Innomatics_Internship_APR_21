{
 "cells": [
  {
   "cell_type": "code",
   "execution_count": null,
   "metadata": {},
   "outputs": [],
   "source": [
    "#question:1 Arrays\n",
    "\n",
    "import numpy\n",
    "\n",
    "def arrays(arr):\n",
    "    arr=numpy.array(arr, float)\n",
    "    return arr[::-1]    \n",
    "    # complete this function\n",
    "    # use numpy.array\n",
    "\n",
    "arr = input().strip().split(' ')\n",
    "result = arrays(arr)\n",
    "print(result)"
   ]
  },
  {
   "cell_type": "code",
   "execution_count": null,
   "metadata": {},
   "outputs": [],
   "source": [
    "#question:2 Shape and Reshape\n",
    "\n",
    "import numpy\n",
    "n=list(map(int,input().split()))\n",
    "arr= numpy.array(n)\n",
    "print(numpy.reshape(arr,(3,3)))"
   ]
  },
  {
   "cell_type": "code",
   "execution_count": null,
   "metadata": {},
   "outputs": [],
   "source": [
    "#question:3 Transpose and Flatten\n",
    "\n",
    "import numpy\n",
    "N, M = map(int, input().split())\n",
    "l=[]\n",
    "for i in range(N):\n",
    "    a=list(map(int, input().split()))\n",
    "    l.append(a)\n",
    "    \n",
    "arr = numpy.array(l).reshape(N,M)\n",
    "print(numpy.transpose(arr))\n",
    "print(arr.flatten())"
   ]
  },
  {
   "cell_type": "code",
   "execution_count": null,
   "metadata": {},
   "outputs": [],
   "source": [
    "#question:4 Concatenate\n",
    "\n",
    "\n",
    "N, M, P = map(int, input().split())\n",
    "l=[]\n",
    "for i in range(N):\n",
    "    a=list(map(int, input().split()))\n",
    "    l.append(a)\n",
    "\n",
    "arr = numpy.array(l).reshape(N,P)\n",
    "\n",
    "k=[]\n",
    "for j in range(M):\n",
    "    b=list(map(int, input().split()))\n",
    "    k.append(b)\n",
    "\n",
    "arr1 = numpy.array(k).reshape(M,P)\n",
    "\n",
    "print(numpy.concatenate((arr,arr1), axis=0))"
   ]
  },
  {
   "cell_type": "code",
   "execution_count": null,
   "metadata": {},
   "outputs": [],
   "source": [
    "#question:5 Zeros and Ones\n",
    "\n",
    "N = tuple(map(int, input().split()))\n",
    "\n",
    "print(numpy.zeros(N,dtype=numpy.int))\n",
    "print(numpy.ones(N,dtype=numpy.int))\n"
   ]
  },
  {
   "cell_type": "code",
   "execution_count": null,
   "metadata": {},
   "outputs": [],
   "source": [
    "#question:6 Eye and Identity\n",
    "\n",
    "numpy.set_printoptions(legacy='1.13')\n",
    "\n",
    "n,m = map(int, input().split())\n",
    "\n",
    "print(numpy.eye(n,m))"
   ]
  },
  {
   "cell_type": "code",
   "execution_count": null,
   "metadata": {},
   "outputs": [],
   "source": [
    "#question:7 Array Mathematics\n",
    "\n",
    "n,m = map(int, input().split())\n",
    "\n",
    "a = numpy.array([input().split() for i in range(n)], dtype=int)\n",
    "b = numpy.array([input().split()for i in range(n)], dtype=int)\n",
    "\n",
    "print(numpy.add(a,b))\n",
    "print(numpy.subtract(a,b))\n",
    "print(numpy.multiply(a,b))\n",
    "print(a//b)\n",
    "print(numpy.mod(a,b))\n",
    "print(numpy.power(a,b))"
   ]
  },
  {
   "cell_type": "code",
   "execution_count": null,
   "metadata": {},
   "outputs": [],
   "source": [
    "#question:8 Floor, Ceil and Rint\n",
    "\n",
    "numpy.set_printoptions(legacy='1.13')\n",
    "\n",
    "a = numpy.array(input().split(), dtype=float)\n",
    "\n",
    "print(numpy.floor(a))\n",
    "print(numpy.ceil(a))\n",
    "print(numpy.rint(a))"
   ]
  },
  {
   "cell_type": "code",
   "execution_count": null,
   "metadata": {},
   "outputs": [],
   "source": [
    "#question:9 Sum and Prod\n",
    "\n",
    "n,m = map(int, input().split())\n",
    "a = numpy.array([input().split() for i in range(n)], dtype=int)\n",
    "\n",
    "b = numpy.sum(a, axis = 0)\n",
    "print(numpy.prod(b, axis = 0))"
   ]
  },
  {
   "cell_type": "code",
   "execution_count": null,
   "metadata": {},
   "outputs": [],
   "source": [
    "#question:10 Min and Max\n",
    "\n",
    "n,m = map(int, input().split())\n",
    "a = numpy.array([input().split() for i in range(n)], dtype=int)\n",
    "\n",
    "b = numpy.min(a, axis = 1)\n",
    "print(numpy.max(b))\n"
   ]
  },
  {
   "cell_type": "code",
   "execution_count": null,
   "metadata": {},
   "outputs": [],
   "source": [
    "#question:11 Mean, Var, and Std\n",
    "\n",
    "\n",
    "n,m = map(int, input().split())\n",
    "a = numpy.array([input().split() for i in range(n)], dtype=int)\n",
    "\n",
    "\n",
    "print(numpy.mean(a, axis = 1))\n",
    "print(numpy.var(a, axis = 0))\n",
    "result=numpy.std(a)\n",
    "print(result.round(11))"
   ]
  },
  {
   "cell_type": "code",
   "execution_count": null,
   "metadata": {},
   "outputs": [],
   "source": [
    "#question:12 Dot and Cross\n",
    "\n",
    "n = int(input())\n",
    "\n",
    "l=[]\n",
    "for i in range(n):\n",
    "    a=list(map(int, input().split()))\n",
    "    l.append(a)\n",
    "\n",
    "a = numpy.array(l).reshape(n,n)\n",
    "\n",
    "k=[]\n",
    "for j in range(n):\n",
    "    b=list(map(int, input().split()))\n",
    "    k.append(b)\n",
    "\n",
    "b = numpy.array(k).reshape(n,n)\n",
    "\n",
    "print(numpy.dot(a, b))"
   ]
  },
  {
   "cell_type": "code",
   "execution_count": null,
   "metadata": {},
   "outputs": [],
   "source": [
    "#question:13 Inner and Outer\n",
    "\n",
    "a = numpy.array(input().split(), dtype=int)\n",
    "b = numpy.array(input().split(), dtype=int)\n",
    "\n",
    "print(numpy.inner(a, b))\n",
    "print(numpy.outer(a, b))"
   ]
  },
  {
   "cell_type": "code",
   "execution_count": null,
   "metadata": {},
   "outputs": [],
   "source": [
    "#question:14 Polynomials\n",
    "\n",
    "P = numpy.array(input().split(), dtype=float)\n",
    "x = int(input())\n",
    "\n",
    "print(numpy.polyval(P,x))"
   ]
  },
  {
   "cell_type": "code",
   "execution_count": null,
   "metadata": {},
   "outputs": [],
   "source": [
    "#question:15 Linear Algebra\n",
    "\n",
    "n = int(input())\n",
    "l=[]\n",
    "for i in range(n):\n",
    "    a=list(map(float, input().split()))\n",
    "    l.append(a)\n",
    "\n",
    "A = numpy.array(l).reshape(n,n)\n",
    "det = numpy.linalg.det(A)\n",
    "print(det.round(2))"
   ]
  },
  {
   "cell_type": "code",
   "execution_count": null,
   "metadata": {},
   "outputs": [],
   "source": []
  }
 ],
 "metadata": {
  "kernelspec": {
   "display_name": "Python 3",
   "language": "python",
   "name": "python3"
  },
  "language_info": {
   "codemirror_mode": {
    "name": "ipython",
    "version": 3
   },
   "file_extension": ".py",
   "mimetype": "text/x-python",
   "name": "python",
   "nbconvert_exporter": "python",
   "pygments_lexer": "ipython3",
   "version": "3.8.3"
  }
 },
 "nbformat": 4,
 "nbformat_minor": 4
}

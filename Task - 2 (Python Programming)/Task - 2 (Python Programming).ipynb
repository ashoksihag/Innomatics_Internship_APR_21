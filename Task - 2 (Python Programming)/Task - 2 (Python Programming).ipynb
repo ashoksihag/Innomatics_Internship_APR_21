{
 "cells": [
  {
   "cell_type": "code",
   "execution_count": null,
   "metadata": {},
   "outputs": [],
   "source": [
    "#question:1 List Comprehensions\n",
    "\n",
    "if __name__ == '__main__':\n",
    "    x = int(input())\n",
    "    y = int(input())\n",
    "    z = int(input())\n",
    "    n = int(input())\n",
    "    print([[i,j,k] for i in range(0, x+1) for j in range(0, y+1) for k in range(0, z+1) if i+j+k!=n])\n"
   ]
  },
  {
   "cell_type": "code",
   "execution_count": null,
   "metadata": {},
   "outputs": [],
   "source": [
    "#question:2 Find the Runner-Up Score!\n",
    "if __name__ == '__main__':\n",
    "    n = int(input())\n",
    "    arr = map(int, input().split())\n",
    "    arr1=sorted(arr)\n",
    "    for i in range(n-1,-1,-1):\n",
    "        if arr1[i]<max(arr1):\n",
    "            print(arr1[i])\n",
    "            break\n"
   ]
  },
  {
   "cell_type": "code",
   "execution_count": null,
   "metadata": {},
   "outputs": [],
   "source": [
    "#question:3 Nested Lists\n",
    "if __name__ == '__main__':\n",
    "    data=[]\n",
    "    marks=set()\n",
    "    for _ in range(int(input())):\n",
    "        name = input()\n",
    "        score = float(input())\n",
    "        data.append([name,score])\n",
    "        marks.add(score)\n",
    "    second_lowest_score = sorted(marks)[1]\n",
    "    students=[]\n",
    "    for name, score in data:\n",
    "        if score==second_lowest_score:\n",
    "            students.append(name)  \n",
    "    print('\\n'.join(sorted(students)))"
   ]
  },
  {
   "cell_type": "code",
   "execution_count": null,
   "metadata": {},
   "outputs": [],
   "source": [
    "#question:4 Finding the percentage\n",
    "\n",
    "\n",
    "if __name__ == '__main__':\n",
    "    n = int(input())\n",
    "    student_marks = {}\n",
    "    for _ in range(n):\n",
    "        name, *line = input().split()\n",
    "        scores = list(map(float, line))\n",
    "        student_marks[name] = scores\n",
    "    query_name = input()\n",
    "    marks = student_marks[query_name]\n",
    "    percentage = sum(marks)/len(marks)\n",
    "    print(\"{0:.2f}\".format(percentage))"
   ]
  },
  {
   "cell_type": "code",
   "execution_count": null,
   "metadata": {},
   "outputs": [],
   "source": [
    "#question:5 Lists\n",
    "N = int(input())\n",
    "l=[]\n",
    "for i in range(N):\n",
    "    x=input().split(' ')\n",
    "    command=x[0]\n",
    "    if command=='insert':\n",
    "        l.insert(int(x[1]),int(x[2]))\n",
    "    if command=='remove':\n",
    "        l.remove(int(x[1]))\n",
    "    if command=='append':\n",
    "        l.append(int(x[1]))\n",
    "    if command=='sort':\n",
    "        l.sort()\n",
    "    if command=='pop':\n",
    "        if(len(l)!=0):\n",
    "            l.pop()\n",
    "    if command=='reverse':\n",
    "        l.reverse()\n",
    "    if command=='print':\n",
    "        print(l)\n",
    "\n"
   ]
  },
  {
   "cell_type": "code",
   "execution_count": null,
   "metadata": {},
   "outputs": [],
   "source": [
    "#question:6 Tuples\n",
    "n = int(input())\n",
    "integer_list = map(int, input().split())\n",
    "t=tuple(integer_list)\n",
    "        \n",
    "print(hash(t))"
   ]
  },
  {
   "cell_type": "code",
   "execution_count": null,
   "metadata": {},
   "outputs": [],
   "source": [
    "#question:7 Introduction to Sets\n",
    "def average(array):\n",
    "    avg=sum(set(array))/len(set(array))\n",
    "    return(round(avg,3))\n",
    "\n",
    "if __name__ == '__main__':\n",
    "    n = int(input())\n",
    "    arr = list(map(int, input().split()))\n",
    "    result = average(arr)\n",
    "    print(result)"
   ]
  },
  {
   "cell_type": "code",
   "execution_count": null,
   "metadata": {},
   "outputs": [],
   "source": [
    "#question:8 No Idea!\n",
    "n,m = map(int, input().split())\n",
    "array= list(map(int, input().split()))\n",
    "\n",
    "A = set(map(int, input().split()))\n",
    "B = set(map(int, input().split()))\n",
    "happiness = 0\n",
    "\n",
    "for i in array:\n",
    "    if i in A:\n",
    "        happiness+=1\n",
    "    elif i in B:\n",
    "        happiness-=1\n",
    "    else:\n",
    "        pass\n",
    "    \n",
    "print(happiness)"
   ]
  },
  {
   "cell_type": "code",
   "execution_count": null,
   "metadata": {},
   "outputs": [],
   "source": [
    "#question:9 Symmetric Difference\n",
    "\n",
    "M = int(input())\n",
    "a = set(map(int, input().split()))\n",
    "N = int(input())\n",
    "b = set(map(int, input().split()))\n",
    "\n",
    "l=[]\n",
    "for i in a.difference(b):\n",
    "    l.append(i)\n",
    "for j in b.difference(a):\n",
    "    l.append(j)\n",
    "    \n",
    "print(*sorted(l), sep='\\n')"
   ]
  },
  {
   "cell_type": "code",
   "execution_count": null,
   "metadata": {},
   "outputs": [],
   "source": [
    "#question:10 Set .add()\n",
    "\n",
    "N = int(input())\n",
    "Country=set()\n",
    "for i in range(0,N):\n",
    "    Country.add(input())\n",
    "n = len(Country)\n",
    "print(n)\n"
   ]
  },
  {
   "cell_type": "code",
   "execution_count": null,
   "metadata": {},
   "outputs": [],
   "source": [
    "#question:11 Set .discard(), .remove() & .pop()\n",
    "\n",
    "n = int(input())\n",
    "s = set(map(int, input().split()))\n",
    "N=int(input())\n",
    "for i in range(N):\n",
    "    l = list(input().split())\n",
    "    if l[0]=='pop':\n",
    "        s.pop()\n",
    "    elif l[0]=='remove':\n",
    "        s.remove(int(l[1]))\n",
    "    elif l[0]=='discard':\n",
    "        s.discard(int(l[1]))\n",
    "        \n",
    "print(sum(s))"
   ]
  },
  {
   "cell_type": "code",
   "execution_count": null,
   "metadata": {},
   "outputs": [],
   "source": [
    "#question:12 Set .union() Operation\n",
    "\n",
    "n = int(input())\n",
    "A= map(int, input().split())\n",
    "N = int(input())\n",
    "B = map(int, input().split())\n",
    "\n",
    "C = set(A).union(set(B))\n",
    "\n",
    "print(len(C))"
   ]
  },
  {
   "cell_type": "code",
   "execution_count": null,
   "metadata": {},
   "outputs": [],
   "source": [
    "#question:13 Set .intersection() Operation\n",
    "\n",
    "n = int(input())\n",
    "A= map(int, input().split())\n",
    "N = int(input())\n",
    "B = map(int, input().split())\n",
    "\n",
    "C = set(A).intersection(set(B))\n",
    "\n",
    "print(len(C))"
   ]
  },
  {
   "cell_type": "code",
   "execution_count": null,
   "metadata": {},
   "outputs": [],
   "source": [
    "#question:14 Set .difference() Operation\n",
    "\n",
    "n = int(input())\n",
    "A= map(int, input().split())\n",
    "N = int(input())\n",
    "B = map(int, input().split())\n",
    "\n",
    "C = set(A).difference(set(B))\n",
    "\n",
    "print(len(C))"
   ]
  },
  {
   "cell_type": "code",
   "execution_count": null,
   "metadata": {},
   "outputs": [],
   "source": [
    "#question:15 Set .symmetric_difference() Operation\n",
    "\n",
    "n = int(input())\n",
    "A= map(int, input().split())\n",
    "N = int(input())\n",
    "B = map(int, input().split())\n",
    "\n",
    "C = set(A).symmetric_difference(set(B))\n",
    "\n",
    "print(len(C))"
   ]
  },
  {
   "cell_type": "code",
   "execution_count": null,
   "metadata": {},
   "outputs": [],
   "source": [
    "#question:16 Set Mutations\n",
    "\n",
    "n = int(input())\n",
    "A = set(map(int, input().split()))\n",
    "N=int(input())\n",
    "for i in range(N):\n",
    "    l = list(input().split())\n",
    "    if l[0]=='intersection_update':\n",
    "        A.intersection_update(set(map(int, input().split())))\n",
    "    elif l[0]=='update':\n",
    "        A.update(set(map(int, input().split())))\n",
    "    elif l[0]=='symmetric_difference_update':\n",
    "        A.symmetric_difference_update(set(map(int, input().split())))\n",
    "    elif l[0]=='difference_update':\n",
    "        A.difference_update(set(map(int, input().split())))\n",
    "print(sum(A))"
   ]
  },
  {
   "cell_type": "code",
   "execution_count": null,
   "metadata": {},
   "outputs": [],
   "source": [
    "#question:17 The Captain's Room\n",
    "\n",
    "K = int(input())\n",
    "room_number_list = list(map(int, input().split()))\n",
    "A = set()\n",
    "B = set()\n",
    "for i in room_number_list:\n",
    "    if i not in A:\n",
    "        A.add(i)\n",
    "        B.add(i)\n",
    "    else:\n",
    "        B.discard(i)\n",
    "print(B.pop())"
   ]
  },
  {
   "cell_type": "code",
   "execution_count": null,
   "metadata": {},
   "outputs": [],
   "source": [
    "#question:18 Check Subset\n",
    "\n",
    "T = int(input())\n",
    "for i in range(T):\n",
    "    m = int(input())\n",
    "    A = set(map(int, input().split()))\n",
    "    n = int(input())\n",
    "    B = set(map(int, input().split()))\n",
    "    print(A.issubset(B))"
   ]
  },
  {
   "cell_type": "code",
   "execution_count": null,
   "metadata": {},
   "outputs": [],
   "source": [
    "#question:19 Check Strict Superset\n",
    "\n",
    "A = set(map(int, input().split()))\n",
    "n = int(input())\n",
    "\n",
    "result=''\n",
    "for i in range(n):\n",
    "    B = set(map(int, input().split()))\n",
    "    if len(B.difference(A))==0:\n",
    "        result = 'True'\n",
    "    else:\n",
    "        result='False'\n",
    "        break\n",
    "    \n",
    "print(result)"
   ]
  },
  {
   "cell_type": "code",
   "execution_count": null,
   "metadata": {},
   "outputs": [],
   "source": []
  }
 ],
 "metadata": {
  "kernelspec": {
   "display_name": "Python 3",
   "language": "python",
   "name": "python3"
  },
  "language_info": {
   "codemirror_mode": {
    "name": "ipython",
    "version": 3
   },
   "file_extension": ".py",
   "mimetype": "text/x-python",
   "name": "python",
   "nbconvert_exporter": "python",
   "pygments_lexer": "ipython3",
   "version": "3.8.3"
  }
 },
 "nbformat": 4,
 "nbformat_minor": 4
}

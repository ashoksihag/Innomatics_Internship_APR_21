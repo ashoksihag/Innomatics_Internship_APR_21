{
 "cells": [
  {
   "cell_type": "code",
   "execution_count": 1,
   "metadata": {},
   "outputs": [],
   "source": [
    "#question:1 sWAP cASE\n",
    "\n",
    "def swap_case(s):\n",
    "    return s.swapcase()"
   ]
  },
  {
   "cell_type": "code",
   "execution_count": 2,
   "metadata": {},
   "outputs": [],
   "source": [
    "#question:2 String Split and Join\n",
    "\n",
    "def split_and_join(line):\n",
    "    line = line.split(' ')\n",
    "    line = \"-\".join(line)\n",
    "    return line"
   ]
  },
  {
   "cell_type": "code",
   "execution_count": 3,
   "metadata": {},
   "outputs": [],
   "source": [
    "#question:3 What's Your Name?\n",
    "\n",
    "def print_full_name(first, last):\n",
    "    print('Hello '+ first_name +' '+ last_name+'! You just delved into python.' )"
   ]
  },
  {
   "cell_type": "code",
   "execution_count": 4,
   "metadata": {},
   "outputs": [],
   "source": [
    "#question:4 Mutations\n",
    "\n",
    "def mutate_string(string, position, character):\n",
    "    l=list(string)\n",
    "    l[position] = character\n",
    "    string = ''.join(l)\n",
    "    return string\n"
   ]
  },
  {
   "cell_type": "code",
   "execution_count": 5,
   "metadata": {},
   "outputs": [],
   "source": [
    "#question:5 Find a string\n",
    "\n",
    "def count_substring(string, sub_string):\n",
    "    x=0\n",
    "    for i in range(len(string)):\n",
    "        if string[i:(i+len(sub_string))]==sub_string:\n",
    "            x=x+1\n",
    "        \n",
    "    return x"
   ]
  },
  {
   "cell_type": "code",
   "execution_count": 7,
   "metadata": {},
   "outputs": [
    {
     "name": "stdout",
     "output_type": "stream",
     "text": [
      "kbddkdjbfurbf58\n",
      "True\n",
      "True\n",
      "True\n",
      "True\n",
      "False\n"
     ]
    }
   ],
   "source": [
    "#question:6 String Validators\n",
    "\n",
    "s = input()\n",
    "print(any(i.isalnum() for i in s))\n",
    "print(any(i.isalpha() for i in s))\n",
    "print(any(i.isdigit() for i in s))\n",
    "print(any(i.islower() for i in s))\n",
    "print(any(i.isupper() for i in s))"
   ]
  },
  {
   "cell_type": "code",
   "execution_count": null,
   "metadata": {},
   "outputs": [],
   "source": [
    "#question:7 Text Alignment\n",
    "\n",
    "thickness = int(input()) #This must be an odd number\n",
    "c = 'H'\n",
    "\n",
    "#Top Cone\n",
    "for i in range(thickness):\n",
    "    print((c*i).rjust(thickness-1)+c+(c*i).ljust(thickness-1))\n",
    "\n",
    "#Top Pillars\n",
    "for i in range(thickness+1):\n",
    "    print((c*thickness).center(thickness*2)+(c*thickness).center(thickness*6))\n",
    "\n",
    "#Middle Belt\n",
    "for i in range((thickness+1)//2):\n",
    "    print((c*thickness*5).center(thickness*6))    \n",
    "\n",
    "#Bottom Pillars\n",
    "for i in range(thickness+1):\n",
    "    print((c*thickness).center(thickness*2)+(c*thickness).center(thickness*6))    \n",
    "\n",
    "#Bottom Cone\n",
    "for i in range(thickness):\n",
    "    print(((c*(thickness-i-1)).rjust(thickness)+c+(c*(thickness-i-1)).ljust(thickness)).rjust(thickness*6))"
   ]
  },
  {
   "cell_type": "code",
   "execution_count": null,
   "metadata": {},
   "outputs": [],
   "source": [
    "#question:8 Text Wrap\n",
    "\n",
    "import textwrap\n",
    "\n",
    "def wrap(string, max_width):\n",
    "    return textwrap.fill(string, max_width)"
   ]
  },
  {
   "cell_type": "code",
   "execution_count": null,
   "metadata": {},
   "outputs": [],
   "source": [
    "#question:9 Designer Door Mat\n",
    "\n",
    "N,M= map(int,input().split())\n",
    "for i in range(1,N,2):\n",
    "    print((i*'.|.').center(M,'-'))\n",
    "print('WELCOME'.center(M,'-'))\n",
    "for i in range(N-2,-1,-2):\n",
    "    print((i*'.|.').center(M,'-'))"
   ]
  },
  {
   "cell_type": "code",
   "execution_count": null,
   "metadata": {},
   "outputs": [],
   "source": [
    "#question:10 String Formatting\n",
    "\n",
    "def print_formatted(number):\n",
    "    l=len('{0:b}'.format(number))\n",
    "    for i in range(1,number+1):\n",
    "        print('{0:{w}d} {0:{w}o} {0:{w}X} {0:{w}b}'.format(i, w=l))"
   ]
  },
  {
   "cell_type": "code",
   "execution_count": null,
   "metadata": {},
   "outputs": [],
   "source": [
    "#question:11 String Formatting\n",
    "\n",
    "def print_rangoli(size):\n",
    "    l=list(map(chr,range(97,123)))\n",
    "    x=l[n-1::-1]+l[1:n]\n",
    "    m=len('-'.join(x))\n",
    "    for i in range(1,size):\n",
    "        print('-'.join(l[n-1:n-i:-1]+l[n-i:n]).center(m,'-'))\n",
    "    for i in range(size,0,-1):\n",
    "        print('-'.join(l[n-1:n-i:-1]+l[n-i:n]).center(m,'-'))"
   ]
  },
  {
   "cell_type": "code",
   "execution_count": null,
   "metadata": {},
   "outputs": [],
   "source": [
    "#question:12 Capitalize!\n",
    "\n",
    "def solve(s):\n",
    "    l=s.split(' ')\n",
    "    s=''\n",
    "    for i in l:\n",
    "        s=s+i.capitalize()+' '\n",
    "    return s"
   ]
  },
  {
   "cell_type": "code",
   "execution_count": null,
   "metadata": {},
   "outputs": [],
   "source": [
    "#question:13 The Minion Game\n",
    "\n",
    "def minion_game(string):\n",
    "    l=len(string)\n",
    "    vowel=0\n",
    "    cons=0\n",
    "    for i in range(l):\n",
    "        if string[i] in 'AEIOU':\n",
    "            vowel=vowel+(l-i)\n",
    "        else:\n",
    "            cons = cons+(l-i)\n",
    "    if (cons>vowel):\n",
    "        print('Stuart {}'.format(cons))\n",
    "    elif cons==vowel:\n",
    "        print('Draw')\n",
    "    else:\n",
    "        print('Kevin {}'.format(vowel))"
   ]
  },
  {
   "cell_type": "code",
   "execution_count": null,
   "metadata": {},
   "outputs": [],
   "source": [
    "#question:14 Merge the Tools!\n",
    "\n",
    "def merge_the_tools(string, k):\n",
    "    s=''\n",
    "    c=0\n",
    "    for i in string:\n",
    "        if i not in s:\n",
    "            s=s+i\n",
    "        c=c+1\n",
    "        if c==k:\n",
    "            c=0\n",
    "            print(s)\n",
    "            s=''"
   ]
  },
  {
   "cell_type": "code",
   "execution_count": null,
   "metadata": {},
   "outputs": [],
   "source": []
  }
 ],
 "metadata": {
  "kernelspec": {
   "display_name": "Python 3",
   "language": "python",
   "name": "python3"
  },
  "language_info": {
   "codemirror_mode": {
    "name": "ipython",
    "version": 3
   },
   "file_extension": ".py",
   "mimetype": "text/x-python",
   "name": "python",
   "nbconvert_exporter": "python",
   "pygments_lexer": "ipython3",
   "version": "3.8.3"
  }
 },
 "nbformat": 4,
 "nbformat_minor": 4
}
